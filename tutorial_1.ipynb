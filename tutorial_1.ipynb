{
 "cells": [
  {
   "cell_type": "code",
   "execution_count": 1,
   "metadata": {},
   "outputs": [],
   "source": [
    "from ipywidgets import interact"
   ]
  },
  {
   "cell_type": "code",
   "execution_count": 2,
   "metadata": {},
   "outputs": [],
   "source": [
    "def square(x):\n",
    "    return x * x"
   ]
  },
  {
   "cell_type": "code",
   "execution_count": 3,
   "metadata": {},
   "outputs": [
    {
     "data": {
      "application/vnd.jupyter.widget-view+json": {
       "model_id": "a63157dbd51c4414ab28e88c71acdd7f",
       "version_major": 2,
       "version_minor": 0
      },
      "text/plain": [
       "interactive(children=(IntSlider(value=50, description='x', step=10), Output()), _dom_classes=('widget-interact…"
      ]
     },
     "metadata": {},
     "output_type": "display_data"
    }
   ],
   "source": [
    "interact(square, x=(0, 100, 10));"
   ]
  },
  {
   "cell_type": "code",
   "execution_count": 4,
   "metadata": {
    "scrolled": false
   },
   "outputs": [
    {
     "data": {
      "application/vnd.jupyter.widget-view+json": {
       "model_id": "ea650f4a868d4bf3bd3c5b33b0848042",
       "version_major": 2,
       "version_minor": 0
      },
      "text/plain": [
       "VBox(children=(interactive(children=(Output(),), _dom_classes=('widget-interact',)), Figure(axes=[Axis(scale=O…"
      ]
     },
     "metadata": {},
     "output_type": "display_data"
    }
   ],
   "source": [
    "import nbinteract as nbi\n",
    "\n",
    "nbi.bar(['a', 'b'], [4, 6])"
   ]
  },
  {
   "cell_type": "code",
   "execution_count": 6,
   "metadata": {},
   "outputs": [],
   "source": [
    "import numpy as np"
   ]
  },
  {
   "cell_type": "code",
   "execution_count": 12,
   "metadata": {},
   "outputs": [],
   "source": [
    "from ipywidgets import interact\n",
    "import numpy as np\n",
    "import random\n",
    "\n",
    "PRIZES = ['Car', 'Goat 1', 'Goat 2']\n",
    "\n",
    "def monty_hall(example_num=0):\n",
    "    '''\n",
    "    Simulates one round of the Monty Hall Problem. Outputs a tuple of\n",
    "    (result if stay, result if switch, result behind opened door) where\n",
    "    each results is one of PRIZES.\n",
    "    '''\n",
    "    pick = random.choice(PRIZES)\n",
    "    opened = random.choice(\n",
    "        [p for p in PRIZES if p != pick and p != 'Car']\n",
    "    )\n",
    "    remainder = next(p for p in PRIZES if p != pick and p != opened)\n",
    "    return (pick, remainder, opened)\n",
    "#Note that the example_num argument is passed in but not used in the monty_hall function. Although it's unneeded for the function, it is easier to use interact to call functions when they have arguments to manipulate:"
   ]
  },
  {
   "cell_type": "code",
   "execution_count": 13,
   "metadata": {},
   "outputs": [
    {
     "data": {
      "application/vnd.jupyter.widget-view+json": {
       "model_id": "44e6e3ac451548bd82cbdfe64cbec041",
       "version_major": 2,
       "version_minor": 0
      },
      "text/plain": [
       "interactive(children=(IntSlider(value=0, description='example_num'), Output()), _dom_classes=('widget-interact…"
      ]
     },
     "metadata": {},
     "output_type": "display_data"
    }
   ],
   "source": [
    "interact(monty_hall, example_num=(0, 100));"
   ]
  },
  {
   "cell_type": "code",
   "execution_count": 14,
   "metadata": {},
   "outputs": [
    {
     "data": {
      "application/vnd.jupyter.widget-view+json": {
       "model_id": "5710358b1c7240a5b7d9732563f72bbc",
       "version_major": 2,
       "version_minor": 0
      },
      "text/plain": [
       "interactive(children=(IntSlider(value=0, description='example_num'), Output()), _dom_classes=('widget-interact…"
      ]
     },
     "metadata": {},
     "output_type": "display_data"
    }
   ],
   "source": [
    "def winner(example_num=0):\n",
    "    '''\n",
    "    Plays a game of Monty Hall. If staying with the original door wins\n",
    "    a car, return 'stay'. Otherwise, the remaining door contains the car\n",
    "    so 'switch' would have won.\n",
    "    '''\n",
    "    picked, _, _ = monty_hall()\n",
    "    return 'stay' if picked == 'Car' else 'switch'\n",
    "\n",
    "interact(winner, example_num=(0, 100));"
   ]
  },
  {
   "cell_type": "code",
   "execution_count": 15,
   "metadata": {
    "scrolled": false
   },
   "outputs": [
    {
     "data": {
      "application/vnd.jupyter.widget-view+json": {
       "model_id": "dd70da2cb8144dcdbcaa56fc3fed044c",
       "version_major": 2,
       "version_minor": 0
      },
      "text/plain": [
       "VBox(children=(interactive(children=(IntSlider(value=4, description='n', max=7, min=1), IntSlider(value=5, des…"
      ]
     },
     "metadata": {},
     "output_type": "display_data"
    }
   ],
   "source": [
    "# This function generates the x-values\n",
    "def categories(n):\n",
    "    return list('abcdefg')[:n]\n",
    "\n",
    "# This function generates the y-values (heights of bars)\n",
    "# The y response function always takes in the x-values as its\n",
    "# first argument\n",
    "def offset_y(xs, offset):\n",
    "    num_categories = len(xs)\n",
    "    return np.arange(num_categories) + offset\n",
    "\n",
    "# Each argument of the response functions is passed in as a keyword\n",
    "# argument to `nbi.bar` in the same format as `interact`\n",
    "nbi.bar(categories, offset_y, n=(1, 7), offset=(0, 10))"
   ]
  },
  {
   "cell_type": "code",
   "execution_count": 16,
   "metadata": {
    "scrolled": true
   },
   "outputs": [
    {
     "data": {
      "application/vnd.jupyter.widget-view+json": {
       "model_id": "7041ff472c6a479993105e840ca4d1b9",
       "version_major": 2,
       "version_minor": 0
      },
      "text/plain": [
       "VBox(children=(interactive(children=(IntSlider(value=500, description='num_games', max=1000, min=1), Output())…"
      ]
     },
     "metadata": {},
     "output_type": "display_data"
    }
   ],
   "source": [
    "categories = ['stay', 'switch']\n",
    "\n",
    "winners = [winner() for _ in range(1000)]\n",
    "\n",
    "# Note that the the first argument to the y response function\n",
    "# will be the x-values which we don't need\n",
    "def won(_, num_games):\n",
    "    '''\n",
    "    Outputs a 2-tuple of the number of times each strategy won\n",
    "    after num_games games.\n",
    "    '''\n",
    "    return (winners[:num_games].count('stay'),\n",
    "            winners[:num_games].count('switch'))\n",
    "\n",
    "nbi.bar(categories, won, num_games=(1, 1000))"
   ]
  },
  {
   "cell_type": "code",
   "execution_count": 19,
   "metadata": {},
   "outputs": [
    {
     "data": {
      "application/vnd.jupyter.widget-view+json": {
       "model_id": "edc81d50ddd44b8d9753223e690ea5d5",
       "version_major": 2,
       "version_minor": 0
      },
      "text/plain": [
       "VBox(children=(interactive(children=(IntSlider(value=500, description='num_games', max=1000, min=1), Output())…"
      ]
     },
     "metadata": {},
     "output_type": "display_data"
    }
   ],
   "source": [
    "#y-axis limits to better visualize this plot being built up. We will also add labels to our plot:\n",
    "\n",
    "options = {\n",
    "    'title': 'Number of times each strategy wins',\n",
    "    'xlabel': 'Strategy',\n",
    "    'ylabel': 'Number of wins',\n",
    "    'ylim': (0, 700),\n",
    "}\n",
    "\n",
    "nbi.bar(categories, won, options=options, num_games=(1, 1000))"
   ]
  },
  {
   "cell_type": "code",
   "execution_count": 20,
   "metadata": {},
   "outputs": [
    {
     "data": {
      "application/vnd.jupyter.widget-view+json": {
       "model_id": "db2cca4d0c2f410aa12422eaca2907e0",
       "version_major": 2,
       "version_minor": 0
      },
      "text/plain": [
       "VBox(children=(interactive(children=(Play(value=0, description='num_games', interval=17, max=1000, step=10), O…"
      ]
     },
     "metadata": {},
     "output_type": "display_data"
    }
   ],
   "source": [
    "from ipywidgets import Play\n",
    "nbi.bar(categories, won, options=options,\n",
    "        num_games=Play(min=0, max=1000, step=10, value=0, interval=17))"
   ]
  }
 ],
 "metadata": {
  "kernelspec": {
   "display_name": "Python 3",
   "language": "python",
   "name": "python3"
  },
  "language_info": {
   "codemirror_mode": {
    "name": "ipython",
    "version": 3
   },
   "file_extension": ".py",
   "mimetype": "text/x-python",
   "name": "python",
   "nbconvert_exporter": "python",
   "pygments_lexer": "ipython3",
   "version": "3.8.3"
  }
 },
 "nbformat": 4,
 "nbformat_minor": 2
}
